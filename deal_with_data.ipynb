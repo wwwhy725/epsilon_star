{
 "cells": [
  {
   "cell_type": "code",
   "execution_count": null,
   "metadata": {},
   "outputs": [],
   "source": [
    "\"\"\"how to convert .npy to .png\"\"\"\n",
    "from PIL import Image\n",
    "import numpy as np\n",
    "\n",
    "def save_numpy_image(image, path):\n",
    "    # normalize image to 0-255\n",
    "    image = image - image.min()\n",
    "    image /= image.max()\n",
    "    image *= 255\n",
    "    image = image.astype(np.uint8)\n",
    "    # save image\n",
    "    image = Image.fromarray(image)\n",
    "    image.save(path)"
   ]
  },
  {
   "cell_type": "code",
   "execution_count": null,
   "metadata": {},
   "outputs": [],
   "source": [
    "cifar_5k = np.load('cifar_5k/cifar_5k_subset.npy')\n",
    "for i, img in enumerate(cifar_5k):\n",
    "    save_numpy_image(img.reshape(28, 28), path=f'cifar_5k/cifar_5k_png/img_{i}.png')  # 运行这段之前先确认'cifar_5k/cifar_5k_png'这个路径存在"
   ]
  }
 ],
 "metadata": {
  "kernelspec": {
   "display_name": "why",
   "language": "python",
   "name": "python3"
  },
  "language_info": {
   "name": "python",
   "version": "3.9.16"
  }
 },
 "nbformat": 4,
 "nbformat_minor": 2
}
